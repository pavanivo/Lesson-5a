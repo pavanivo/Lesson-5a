{
 "cells": [
  {
   "cell_type": "markdown",
   "metadata": {
    "slideshow": {
     "slide_type": "notes"
    }
   },
   "source": [
    "> **Jupyter slideshow:** This notebook can be displayed as slides. To view it as a slideshow in your browser type in the console:\n",
    "\n",
    "\n",
    "> `> jupyter nbconvert [this_notebook.ipynb] --to slides --post serve`\n",
    "\n",
    "\n",
    "> To toggle off the slideshow cell formatting, click the `CellToolbar` button, then `View --> Cell Toolbar --> None`"
   ]
  },
  {
   "cell_type": "markdown",
   "metadata": {
    "slideshow": {
     "slide_type": "slide"
    }
   },
   "source": [
    "<img src=\"http://imgur.com/1ZcRyrc.png\" style=\"float: left; margin: 20px; height: 55px\">\n",
    "\n",
    "# Research Design and Machine Learning\n",
    "\n",
    "_Authors: Alexander Egorenkov (DC), Amy Roberts (NYC)_\n",
    "\n",
    "---"
   ]
  },
  {
   "cell_type": "markdown",
   "metadata": {
    "slideshow": {
     "slide_type": "slide"
    }
   },
   "source": [
    "<a id=\"learning-objectives\"></a>\n",
    "## Learning objectives\n",
    "- Define a problem and types of data\n",
    "- Identify data set types\n",
    "- Define the data science workflow\n",
    "- Introduce machine learning and its role in data science"
   ]
  },
  {
   "cell_type": "markdown",
   "metadata": {
    "slideshow": {
     "slide_type": "slide"
    }
   },
   "source": [
    "### Lesson Guide\n",
    "- [Learning objectives](#learning-objectives)\n",
    "- [Experimental Design](#experimental-design)\n",
    "\t- [Let's review the data science workflow](#lets-review-the-data-science-workflow)\n",
    "\t- [Asking a good question](#asking-a-good-question)\n",
    "\t- [What is a good question?](#what-is-a-good-question)\n",
    "- [Data Types](#data-types)\n",
    "\t- [Why data types matter](#why-data-types-matter)\n",
    "\t- [Cross-sectional data](#cross-sectional-data)\n",
    "\t- [Time series/longitudinal data](#time-serieslongitudinal-data)\n",
    "- [What are some common questions in data science?](#what-are-some-common-questions-in-data-science)\n",
    "- [Machine Learning](#machine-learning)\n",
    "\t- [What is machine learning?](#what-is-machine-learning)\n",
    "\t- [Types of machine learning](#types-of-machine-learning)\n",
    "- [Machine learning terminology](#machine-learning-terminology)\n",
    "- [Supervised learning](#supervised-learning)\n",
    "\t- [Classification vs. Regression](#classification-vs-regression)\n",
    "\t- [Regression or classification?](#regression-or-classification)\n",
    "- [Unsupervised learning](#unsupervised-learning)\n",
    "\t- [Common types of unsupervised learning](#common-types-of-unsupervised-learning)\n",
    "- [Intro to Sci-kit learn](#intro-to-sci-kit-learn)\n"
   ]
  },
  {
   "cell_type": "markdown",
   "metadata": {
    "slideshow": {
     "slide_type": "slide"
    }
   },
   "source": [
    "<a id=\"experimental-design\"></a>\n",
    "## Experimental Design"
   ]
  },
  {
   "cell_type": "markdown",
   "metadata": {
    "slideshow": {
     "slide_type": "slide"
    }
   },
   "source": [
    "<a id=\"lets-review-the-data-science-workflow\"></a>\n",
    "### Let's review the data science workflow\n",
    "The steps:\n",
    "- Identify the problem\n",
    "- Acquire the data\n",
    "- Parse the data\n",
    "- Mine the data\n",
    "- Refine the data\n",
    "- Build a data model\n",
    "- Present the results"
   ]
  },
  {
   "cell_type": "markdown",
   "metadata": {},
   "source": [
    "We’re going to focus on steps 1-2 (Identify the Problem and Acquire the Data).\n",
    "We’ll also talk about modeling."
   ]
  },
  {
   "cell_type": "markdown",
   "metadata": {
    "slideshow": {
     "slide_type": "slide"
    }
   },
   "source": [
    "![](./assets/images/data-science-workflow.png)"
   ]
  },
  {
   "cell_type": "markdown",
   "metadata": {
    "slideshow": {
     "slide_type": "slide"
    }
   },
   "source": [
    "<a id=\"asking-a-good-question\"></a>\n",
    "### Asking a good question"
   ]
  },
  {
   "cell_type": "markdown",
   "metadata": {
    "slideshow": {
     "slide_type": "slide"
    }
   },
   "source": [
    "**Why do we need a good question?**\n",
    "\n",
    "“A problem well stated is half solved.” -Charles Kettering\n",
    "- Sets you up for success as you begin analysis\n",
    "- Establishes the basis for reproducibility\n",
    "- Enables collaboration through clear goals\n",
    "    - Really hard to collaborate without a vision"
   ]
  },
  {
   "cell_type": "markdown",
   "metadata": {
    "slideshow": {
     "slide_type": "slide"
    }
   },
   "source": [
    "One way to look at questions is through goal setting through the SMART Goals Framework.\n",
    "\n",
    "- **Specific**:  The dataset and key variables are clearly defined.\n",
    "- **Measurable**:  The type of analysis and major assumptions are articulated.\n",
    "- **Attainable**:  The question you are asking is feasible for your dataset and is not likely to be biased.\n",
    "- **Reproducible**:  Another person (or future you) can read and understand exactly how your analysis is performed.\n",
    "- **Time-bound**:  You clearly state the time period and population for which this analysis will pertain."
   ]
  },
  {
   "cell_type": "markdown",
   "metadata": {
    "slideshow": {
     "slide_type": "slide"
    }
   },
   "source": [
    "<a id=\"what-is-a-good-question\"></a>\n",
    "### What is a good question?"
   ]
  },
  {
   "cell_type": "markdown",
   "metadata": {
    "slideshow": {
     "slide_type": "slide"
    }
   },
   "source": [
    "#### Demo: Diagramming An AIM\n",
    "\n",
    "Determine the association of foods in the home with child dietary intake. Using one 24-hour recall from the cross-sectional NHANES 2007-2010 we will determine the factors associated with food available in the homes of American children and adolescents. We will test if reported availability of fruits, dark green vegetables, low fat milk or sugar sweetened beverages available in the home increases the likelihood that children and adolescents will meet their USDA recommended dietary intake for that food."
   ]
  },
  {
   "cell_type": "markdown",
   "metadata": {
    "slideshow": {
     "slide_type": "slide"
    }
   },
   "source": [
    "#### Hypothesis\n",
    "\n",
    "Children will be more likely to meet the USDA recommended intake level when food is always available in their home compared to rarely or never."
   ]
  },
  {
   "cell_type": "markdown",
   "metadata": {
    "slideshow": {
     "slide_type": "slide"
    }
   },
   "source": [
    "**How data was collected:**\n",
    "\n",
    "24-hour recall, self-reported\n",
    "\n",
    "**What data was collected:**\n",
    "\n",
    "Fruits, dark green vegetables, low fat milk or sugar sweetened beverages, always vs. rarely available\n",
    "\n",
    "**How data will be analyzed:**\n",
    "\n",
    "Using USDA recommendations as a gold-standard to measure the association\n",
    "\n",
    "**The specific hypothesis & direction of the expected associations:**\n",
    "\n",
    "Children will be more likely to meet their recommended intake level"
   ]
  },
  {
   "cell_type": "markdown",
   "metadata": {
    "slideshow": {
     "slide_type": "slide"
    }
   },
   "source": [
    "#### Measureable\n",
    "Determine the association of foods in the home with child dietary intake.\n",
    "\n",
    "We will test if the reported availability of certain foods increases the likelihood that children and adolescents will meet their USDA recommended dietary intake for food."
   ]
  },
  {
   "cell_type": "markdown",
   "metadata": {
    "slideshow": {
     "slide_type": "slide"
    }
   },
   "source": [
    "#### Attainable\n",
    "Cross-sectional data has inherent limitations; one of the most common is that causal inference is typically not possible.\n",
    "\n",
    "Note that we are determining association, not causation."
   ]
  },
  {
   "cell_type": "markdown",
   "metadata": {
    "slideshow": {
     "slide_type": "slide"
    }
   },
   "source": [
    "#### Reproducible\n",
    "With all the specifics, it would be straightforward to pull the data from NHANES and reproduce the analysis."
   ]
  },
  {
   "cell_type": "markdown",
   "metadata": {
    "slideshow": {
     "slide_type": "slide"
    }
   },
   "source": [
    "#### Time Bound\n",
    "\n",
    "Using one 24-hour recall from NHANES 2007-2010, we will determine the factors associated with food available in the homes of American children and adolescents."
   ]
  },
  {
   "cell_type": "markdown",
   "metadata": {
    "slideshow": {
     "slide_type": "slide"
    }
   },
   "source": [
    "\n",
    "The previous example laid out research goals.\n",
    "\n",
    "In a business setting, you will need to articulate business objectives.\n",
    "\n",
    "Example:  Success for the Netflix recommendation engine may be if 70% of customers over the age of 18 select a movie from the recommended queue during Q3 of 2015.\n",
    "\n",
    "Regardless of setting, planning ahead and outlining the entire project will help you save time. You'll prioritize tasks better, you won't get stuck on small details that don't matter, and most importantly, you'll know when to stop."
   ]
  },
  {
   "cell_type": "markdown",
   "metadata": {
    "slideshow": {
     "slide_type": "slide"
    }
   },
   "source": [
    "#### Knowledge Check\n",
    "Answer the following questions\n",
    "\n",
    "**Which of the following uses the SMART framework?  Why?  What is missing?**\n",
    "\n",
    "I am looking to see if there is an association with number of passengers with carry on luggage and delayed take-off time.\n",
    "\n",
    "Determine if the number of passengers on JetBlue, Delta and United domestic flights with carry-on luggage is associated with delayed take-off time using data from flightstats.com from January 2015- December 2015."
   ]
  },
  {
   "cell_type": "markdown",
   "metadata": {
    "slideshow": {
     "slide_type": "slide"
    }
   },
   "source": [
    "<a id=\"data-types\"></a>\n",
    "## Data Types\n",
    "**Cross-sectional**\n",
    "\n",
    "All information is determined at the same time; all data comes from the same time period.\n",
    "\n",
    "**Time series**\n",
    "\n",
    "The information is collected over a period of time for a single group.\n",
    "\n",
    "**Longitudinal/Panel**\n",
    "\n",
    "The information is collected over a period of time for several groups.\n",
    "\n",
    "(Check out the data structures available in Pandas http://pandas.pydata.org/pandas-docs/stable/overview.html)"
   ]
  },
  {
   "cell_type": "markdown",
   "metadata": {
    "slideshow": {
     "slide_type": "slide"
    }
   },
   "source": [
    "<a id=\"why-data-types-matter\"></a>\n",
    "### Why data types matter\n",
    "- Different data types have different limitations and strengths.\n",
    "- Certain types of analyses aren’t possible with certain data types."
   ]
  },
  {
   "cell_type": "markdown",
   "metadata": {
    "slideshow": {
     "slide_type": "slide"
    }
   },
   "source": [
    "<a id=\"cross-sectional-data\"></a>\n",
    "### Cross-sectional data\n",
    "\n",
    "**Strengths**\n",
    "- Often population based\n",
    "- Generalizability\n",
    "- Reduce cost compared to other types of data collection methods\n",
    "\n",
    "**Weaknesses**\n",
    "- There is no distinction between exposure and outcome\n",
    "- Separation of cause and effect may be difficult (or impossible)\n",
    "- Variables/cases with long duration are over-represented"
   ]
  },
  {
   "cell_type": "markdown",
   "metadata": {
    "slideshow": {
     "slide_type": "slide"
    }
   },
   "source": [
    "<a id=\"time-serieslongitudinal-data\"></a>\n",
    "### Time series/longitudinal data\n",
    "\n",
    "**Strengths**\n",
    "- Unambiguous temporal sequence - exposure precedes outcome\n",
    "- Multiple outcomes can be measured\n",
    "\n",
    "**Weaknesses**\n",
    "- Expense\n",
    "- Takes a long time to collect data\n",
    "- Vulnerable to missing data"
   ]
  },
  {
   "cell_type": "markdown",
   "metadata": {
    "slideshow": {
     "slide_type": "slide"
    }
   },
   "source": [
    "#### Knowledge Check\n",
    "\n",
    "**What type of data is the flight_delays data?**\n",
    "\n",
    "**Can you create a cross-sectional analysis from a longitudinal data collection? How?**"
   ]
  },
  {
   "cell_type": "code",
   "execution_count": null,
   "metadata": {
    "collapsed": true,
    "slideshow": {
     "slide_type": "skip"
    }
   },
   "outputs": [],
   "source": [
    "import pandas as pd"
   ]
  },
  {
   "cell_type": "code",
   "execution_count": null,
   "metadata": {
    "collapsed": true,
    "slideshow": {
     "slide_type": "skip"
    }
   },
   "outputs": [],
   "source": [
    "# Find the flight_delays dataset in the datasets folder\n",
    "flights = pd.read_csv('../../dataset/flight_delays.csv')"
   ]
  },
  {
   "cell_type": "markdown",
   "metadata": {
    "slideshow": {
     "slide_type": "slide"
    }
   },
   "source": [
    "<a id=\"what-are-some-common-questions-in-data-science\"></a>\n",
    "## What are some common questions in data science?\n",
    "**Machine learning more or less asks the following questions:**\n",
    "- Does X predict y? Where X is a set of data and y is an outcome.\n",
    "- Are there any distinct groups in our data?\n",
    "- What are the key components of our data?\n",
    "- Is one of our observations “weird”?\n",
    "\n",
    "This seems limited, but we rewrite most questions to fit this form."
   ]
  },
  {
   "cell_type": "markdown",
   "metadata": {
    "slideshow": {
     "slide_type": "slide"
    }
   },
   "source": [
    "**From a business perspective:**\n",
    "- What is the likelihood a customer will buy this product?\n",
    "- Is this a good or bad review?\n",
    "- How much demand will there be for my service tomorrow?\n",
    "- Is this the cheapest way to deliver my goods?\n",
    "- Is there a better way to segment my marketing strategies?\n",
    "- What groups of products are purchased together?\n",
    "- Can we automate this simple yes/no decision?\n",
    "\n",
    "There are an endless amount of examples from various fields. https://www.kaggle.com/wiki/DataScienceUseCases"
   ]
  },
  {
   "cell_type": "markdown",
   "metadata": {
    "slideshow": {
     "slide_type": "slide"
    }
   },
   "source": [
    "**Class activity: Rewriting questions**\n",
    "\n",
    "Answer the following question\n",
    "\n",
    "**How do the machine learning questions fit with the business application questions in the previous slide?**"
   ]
  },
  {
   "cell_type": "markdown",
   "metadata": {
    "collapsed": true,
    "slideshow": {
     "slide_type": "slide"
    }
   },
   "source": [
    "**Activity: Write a research question with raw data**\n",
    "\n",
    "Individually, look at the data from Kaggle’s Titanic competition and write a high quality research question.\n",
    "\n",
    "Make sure you answer the following questions:\n",
    "- What type of data is this, cross-sectional or longitudinal?\n",
    "- What will we be measuring?\n",
    "- What is the SMART aim for this data?\n",
    "- When finished, split into pairs and share your answers with each other.\n",
    "\n",
    "The data dictionary can be found here https://www.kaggle.com/c/titanic/data"
   ]
  },
  {
   "cell_type": "code",
   "execution_count": null,
   "metadata": {
    "collapsed": true,
    "slideshow": {
     "slide_type": "skip"
    }
   },
   "outputs": [],
   "source": [
    "titanic = pd.read_csv('../../dataset/titanic.csv')"
   ]
  },
  {
   "cell_type": "markdown",
   "metadata": {
    "slideshow": {
     "slide_type": "slide"
    }
   },
   "source": [
    "<a id=\"machine-learning\"></a>\n",
    "## Machine Learning"
   ]
  },
  {
   "cell_type": "markdown",
   "metadata": {
    "slideshow": {
     "slide_type": "slide"
    }
   },
   "source": [
    "<a id=\"what-is-machine-learning\"></a>\n",
    "### What is machine learning?\n",
    "\n",
    "\"A field of study that gives computers the ability to learn without being explicitly programmed.\"\n",
    "~ Arthur Samuel, AI pioneer"
   ]
  },
  {
   "cell_type": "markdown",
   "metadata": {
    "slideshow": {
     "slide_type": "slide"
    }
   },
   "source": [
    "\"Seriously, I don't like the phrase \"Big Data\". I prefer \"Data Science\", which is the automatic (or semi-automatic) extraction of knowledge from data. That is here to stay, it's not a fad. The amount of data generated by our digital world is growing exponentially with high rate (at the same rate our hard-drives and communication networks are increasing their capacity). But the amount of human brain power in the world is not increasing nearly as fast. This means that now or in the near future most of the knowledge in the world will be extracted by machine and reside in machines. It's inevitable. En entire industry is building itself around this, and a new academic discipline is emerging.\"\n",
    "~ Yann LeCun"
   ]
  },
  {
   "cell_type": "markdown",
   "metadata": {
    "slideshow": {
     "slide_type": "slide"
    }
   },
   "source": [
    "One definition: “Machine learning is the semi-automatic extraction of knowledge from data.”\n",
    "\n",
    "**Knowledge from data:** Starts with a question that might be answerable using data\n",
    "\n",
    "**Automatic extraction:** A computer provides the insight\n",
    "\n",
    "**Semi-automatic:** Requires many smart decisions by a human"
   ]
  },
  {
   "cell_type": "markdown",
   "metadata": {
    "slideshow": {
     "slide_type": "slide"
    }
   },
   "source": [
    "<a id=\"types-of-machine-learning\"></a>\n",
    "### Types of machine learning\n",
    "- supervised learning\n",
    "    - classification - predict categories\n",
    "    - regression - predict numbers\n",
    "- unsupervised learning\n",
    "    - clustering - identify groups within data\n",
    "    - dimensionality reduction - identify components or key variables within data\n",
    "    \n",
    "(One could give a much more detailed taxonomy, but this is useful.)    "
   ]
  },
  {
   "cell_type": "markdown",
   "metadata": {
    "slideshow": {
     "slide_type": "slide"
    }
   },
   "source": [
    "There are two main categories of machine learning: supervised learning and unsupervised learning.\n",
    "\n",
    "**Supervised learning (aka “predictive modeling”):**\n",
    "- Predict an outcome based on input data\n",
    "- Example: predict whether an email is spam or ham\n",
    "- Goal is “generalization”\n",
    "\n",
    "**Unsupervised learning:**\n",
    "- Extracting structure from data\n",
    "- Example: segment grocery store shoppers into “clusters” that exhibit similar behaviors\n",
    "- Goal is “representation”\n",
    "\n",
    "It's typical to combine both in a project to reduce the costs of collecting data by learning a better representation. This is referred to as transfer learning.\n",
    "\n",
    "Unsupervised learning tends to be a more difficult problem because the goals are amorphous. Supervised learning has goals that are almost too clear and leave people in the trap of optimizing metrics without thinking about business value."
   ]
  },
  {
   "cell_type": "markdown",
   "metadata": {
    "slideshow": {
     "slide_type": "slide"
    }
   },
   "source": [
    "<a id=\"machine-learning-terminology\"></a>\n",
    "## Machine learning terminology\n",
    "![](./assets/images/feature_matrix.png)\n",
    "\n",
    "**Observations** are also known as: samples, examples, instances, records\n",
    "\n",
    "**Features** are also known as: predictors, independent variables, inputs, regressors, covariates, attributes\n",
    "\n",
    "**Response** is also known as: outcome, label, target, dependent variable"
   ]
  },
  {
   "cell_type": "markdown",
   "metadata": {
    "slideshow": {
     "slide_type": "slide"
    }
   },
   "source": [
    "<a id=\"supervised-learning\"></a>\n",
    "## Supervised learning\n",
    "\n",
    "How does supervised learning “work”?\n",
    "\n",
    "1. Train a **machine learning model** using **labeled data**\n",
    "    - “Labeled data” is data with a response variable\n",
    "    - “Machine learning model” learns the relationship between the features and the response\n",
    "\n",
    "2. Make predictions on **new data** for which the response is unknown\n",
    "\n",
    "The primary goal of supervised learning is to build a model that “generalizes”: It accurately predicts the **future** rather than the **past**!"
   ]
  },
  {
   "cell_type": "markdown",
   "metadata": {
    "slideshow": {
     "slide_type": "slide"
    }
   },
   "source": [
    "![](./assets/images/supervised-learning.png)"
   ]
  },
  {
   "cell_type": "markdown",
   "metadata": {
    "slideshow": {
     "slide_type": "slide"
    }
   },
   "source": [
    "<a id=\"classification-vs-regression\"></a>\n",
    "### Classification vs. Regression\n",
    "\n",
    "There are two categories of supervised learning:\n",
    "\n",
    "**Regression**\n",
    "- Outcome we are trying to predict is continuous\n",
    "- Examples: price, blood pressure\n",
    "\n",
    "**Classification**\n",
    "- Outcome we are trying to predict is categorical (values in a finite set)\n",
    "- Examples: spam/ham, cancer class of tissue sample\n",
    "\n",
    "The type of supervised learning problem has nothing to do with the features, only the response matters!"
   ]
  },
  {
   "cell_type": "markdown",
   "metadata": {
    "slideshow": {
     "slide_type": "slide"
    }
   },
   "source": [
    "<a id=\"regression-or-classification\"></a>\n",
    "### Regression or classification?"
   ]
  },
  {
   "cell_type": "markdown",
   "metadata": {
    "slideshow": {
     "slide_type": "slide"
    }
   },
   "source": [
    "#### Predict salary using demographic data\n",
    "![](./assets/images/salary-regression.png)"
   ]
  },
  {
   "cell_type": "markdown",
   "metadata": {
    "slideshow": {
     "slide_type": "slide"
    }
   },
   "source": [
    "#### Identify the numbers in a handwritten zip code\n",
    "![](./assets/images/ocr-classification.png)"
   ]
  },
  {
   "cell_type": "markdown",
   "metadata": {
    "slideshow": {
     "slide_type": "slide"
    }
   },
   "source": [
    "**Problem:** Children born prematurely are at high risk of developing infections, many of which are not detected until after the baby is sick\n",
    "\n",
    "**Goal:** Detect subtle patterns in the data that predicts infection before it occurs\n",
    "\n",
    "\n",
    "\n",
    "**Data:** 16 vital signs such as heart rate, respiration rate, blood pressure, etc…\n",
    "\n",
    "**Impact:** Model is able to predict the onset of infection 24 hours before the traditional symptoms of infection appear\n",
    "\n",
    "**Case Study:** http://www.amazon.com/Big-Data-Revolution-Transform-Think/dp/0544002695"
   ]
  },
  {
   "cell_type": "markdown",
   "metadata": {
    "slideshow": {
     "slide_type": "slide"
    }
   },
   "source": [
    "![](./assets/images/netflix.png)"
   ]
  },
  {
   "cell_type": "markdown",
   "metadata": {
    "slideshow": {
     "slide_type": "slide"
    }
   },
   "source": [
    "**Supervised learning example: Coin classifier**\n",
    "\n",
    "- **Observations:** Coins\n",
    "- **Features:** Size and mass\n",
    "- **Response:** Coin type, hand-labeled\n",
    "\n",
    "- Train a machine learning model using labeled data\n",
    "    - Model learns the relationship between the features and the coin type\n",
    "\n",
    "- Make predictions on new data for which the response is unknown\n",
    "    - Give it a new coin, predicts the coin type automatically"
   ]
  },
  {
   "cell_type": "markdown",
   "metadata": {
    "slideshow": {
     "slide_type": "slide"
    }
   },
   "source": [
    "![](./assets/images/supervised-coins.png)"
   ]
  },
  {
   "cell_type": "markdown",
   "metadata": {
    "slideshow": {
     "slide_type": "slide"
    }
   },
   "source": [
    "<a id=\"unsupervised-learning\"></a>\n",
    "## Unsupervised learning\n",
    "\n",
    "**Supervised learning (aka “predictive modeling”):**\n",
    "- Predict an outcome based on input data\n",
    "- Example: predict whether an email is spam or ham\n",
    "- Goal is “generalization”\n",
    "\n",
    "**Unsupervised learning:**\n",
    "- Extracting structure from data\n",
    "- Example: segment grocery store shoppers into “clusters” that exhibit similar behaviors\n",
    "- Goal is “representation”"
   ]
  },
  {
   "cell_type": "markdown",
   "metadata": {
    "slideshow": {
     "slide_type": "slide"
    }
   },
   "source": [
    "<a id=\"common-types-of-unsupervised-learning\"></a>\n",
    "### Common types of unsupervised learning\n",
    "- Clustering: group “similar” data points together\n",
    "- Dimensionality Reduction: reduce the dimensionality of a dataset by extracting features that capture most of the variance in the data"
   ]
  },
  {
   "cell_type": "markdown",
   "metadata": {
    "slideshow": {
     "slide_type": "slide"
    }
   },
   "source": [
    "Unsupervised learning has some clear differences from supervised learning. With unsupervised learning:\n",
    "\n",
    "- There is no clear objective\n",
    "- There is no “right anwser” (hard to tell how well you are doing)\n",
    "- There is no response variable, just observations with features\n",
    "- Labeled data is not required"
   ]
  },
  {
   "cell_type": "markdown",
   "metadata": {
    "slideshow": {
     "slide_type": "slide"
    }
   },
   "source": [
    "**Unsupervised learning example: Coin clustering and dimensionality reduction**\n",
    "\n",
    "- **Observations:** Coins\n",
    "- **Features:** Size and mass\n",
    "- **Response:** There isn’t one (no hand-labeling required!)"
   ]
  },
  {
   "cell_type": "markdown",
   "metadata": {
    "slideshow": {
     "slide_type": "-"
    }
   },
   "source": [
    "![](./assets/images/unsupervised-coins.png)"
   ]
  },
  {
   "cell_type": "markdown",
   "metadata": {
    "slideshow": {
     "slide_type": "slide"
    }
   },
   "source": [
    "**Clustering**\n",
    "1. Perform unsupervised learning\n",
    "2. Cluster the coins based on “similarity”\n",
    "3. Inspect the grouping that the algorithm found\n",
    "4. You’re done!\n",
    "\n",
    "Hopefully this would put the coins into four separate groups."
   ]
  },
  {
   "cell_type": "markdown",
   "metadata": {
    "slideshow": {
     "slide_type": "slide"
    }
   },
   "source": [
    "**Dimensionality reduction**\n",
    "1. Perform unsupervised learning\n",
    "2. Cluster the coins based on “similarity”\n",
    "3. Inspect the features produces by the algorithm\n",
    "4. You’re done!\n",
    "\n",
    "Hopefully the algorithm would recognize something like: \n",
    "\n",
    "$$\\dfrac {mass} {size} = density$$\n",
    "\n",
    "Sometimes, unsupervised learning is used as a “preprocessing” step for supervised learning. (How?)"
   ]
  },
  {
   "cell_type": "markdown",
   "metadata": {
    "slideshow": {
     "slide_type": "slide"
    }
   },
   "source": [
    "<a id=\"intro-to-sci-kit-learn\"></a>\n",
    "<a id=\"intro-to-sci-kit-learn\"></a>\n",
    "## Intro to Sci-kit learn\n",
    "\n",
    "- We typically won't be implementing machine learning algorithms from scratch\n",
    "- Sci-kit learn, refered to as sklearn, is a very popular machine learning library in Python\n",
    "- It benefits from ease of use and great documentation\n",
    "- It's possible to find other libraries and tools with better performing algorithms, but sklearn is a great start\n",
    "\n",
    "http://scikit-learn.org/stable/"
   ]
  }
 ],
 "metadata": {
  "celltoolbar": "Slideshow",
  "kernelspec": {
   "display_name": "Python 2",
   "language": "python",
   "name": "python2"
  },
  "language_info": {
   "codemirror_mode": {
    "name": "ipython",
    "version": 2
   },
   "file_extension": ".py",
   "mimetype": "text/x-python",
   "name": "python",
   "nbconvert_exporter": "python",
   "pygments_lexer": "ipython2",
   "version": "2.7.14"
  }
 },
 "nbformat": 4,
 "nbformat_minor": 2
}
